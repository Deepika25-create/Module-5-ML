{
 "cells": [
  {
   "cell_type": "markdown",
   "id": "c818ae2d",
   "metadata": {},
   "source": [
    "What is Dimensionality Reduction?\n",
    "Imagine this:\n",
    "\n",
    "You are trying to understand people based on 100 different things about them (like height, weight, age, favorite color, movie taste, etc.).\n",
    "\n",
    "That's A LOT of information.\n",
    "\n",
    "📉 But what if you could summarize all of that into just 2 or 3 things that still give you most of the useful info?\n",
    "\n",
    "🎯 That’s what Dimensionality Reduction does — it simplifies data without losing important details."
   ]
  },
  {
   "cell_type": "markdown",
   "id": "d3204d02",
   "metadata": {},
   "source": [
    "📘 Why do we need it?\n",
    "Easier to see and understand (we can plot 2D or 3D, not 100D!)\n",
    "\n",
    "Makes machine learning faster\n",
    "\n",
    "Helps remove unnecessary or repeating info\n",
    "\n",
    "Now let’s learn two popular ways to reduce dimensions:"
   ]
  },
  {
   "cell_type": "markdown",
   "id": "7a4db47c",
   "metadata": {},
   "source": [
    "🧠 1. PCA — Principal Component Analysis\n",
    "👶 Think of it like:\n",
    "You're taking a photo of a 3D object (say a ball).\n",
    "The photo is in 2D, but still shows the shape of the ball pretty well.\n",
    "\n",
    "PCA does the same with data: It takes high-dimensional data and creates a smaller version of it — but still keeps what matters most."
   ]
  },
  {
   "cell_type": "markdown",
   "id": "9dcf7799",
   "metadata": {},
   "source": [
    "🎯 Example:\n",
    "Let’s say we are measuring:\n",
    "\n",
    "Student’s Math Marks\n",
    "\n",
    "Student’s Science Marks\n",
    "\n",
    "Most students who are good at Math are also good at Science.\n",
    "\n",
    "👉 So we can combine these two into one score (say \"Logic Score\").\n",
    "\n",
    "That’s what PCA does: it finds patterns and combines similar things."
   ]
  },
  {
   "cell_type": "markdown",
   "id": "8ddc6b60",
   "metadata": {},
   "source": [
    "🔧 What PCA does step-by-step:\n",
    "Looks at all features (marks, age, etc.)\n",
    "\n",
    "Finds which features are related\n",
    "\n",
    "Combines them into fewer features\n",
    "\n",
    "Keeps the most important parts, throws away less useful ones\n",
    "\n"
   ]
  },
  {
   "cell_type": "markdown",
   "id": "bdab5c54",
   "metadata": {},
   "source": [
    "📈 Uses of PCA:\n",
    "✅ To simplify data\n",
    "\n",
    "✅ To remove noise\n",
    "\n",
    "✅ To speed up machine learning\n",
    "\n",
    "✅ For feature selection\n",
    "\n"
   ]
  },
  {
   "cell_type": "code",
   "execution_count": 1,
   "id": "50478a0a",
   "metadata": {},
   "outputs": [
    {
     "name": "stdout",
     "output_type": "stream",
     "text": [
      "Original Data:\n",
      "    Math  Science  English\n",
      "0    85       80       78\n",
      "1    70       65       72\n",
      "2    65       70       68\n",
      "3    90       88       85\n",
      "4    95       92       89\n",
      "5    60       58       60\n",
      "\n",
      "PCA Result:\n",
      "         PC1       PC2\n",
      "0 -0.697635  0.044742\n",
      "1  1.019349  0.330227\n",
      "2  1.237306 -0.323353\n",
      "3 -1.703548 -0.052214\n",
      "4 -2.345634 -0.000878\n",
      "5  2.490163  0.001476\n",
      "\n",
      "Explained Variance Ratio: [0.9812046  0.01212992]\n"
     ]
    },
    {
     "data": {
      "image/png": "[encoded data removed]",
      "text/plain": [
       "<Figure size 800x600 with 1 Axes>"
      ]
     },
     "metadata": {},
     "output_type": "display_data"
    }
   ],
   "source": [
    "# PCA Example in Python\n",
    "\n",
    "# Step 1: Import libraries\n",
    "import pandas as pd\n",
    "import numpy as np\n",
    "from sklearn.decomposition import PCA\n",
    "from sklearn.preprocessing import StandardScaler\n",
    "import matplotlib.pyplot as plt\n",
    "import seaborn as sns\n",
    "\n",
    "# Step 2: Create a sample dataset\n",
    "data = {\n",
    "    'Math': [85, 70, 65, 90, 95, 60],\n",
    "    'Science': [80, 65, 70, 88, 92, 58],\n",
    "    'English': [78, 72, 68, 85, 89, 60]\n",
    "}\n",
    "df = pd.DataFrame(data)\n",
    "print(\"Original Data:\\n\", df)\n",
    "\n",
    "# Step 3: Standardize the data\n",
    "scaler = StandardScaler()\n",
    "scaled_data = scaler.fit_transform(df)\n",
    "\n",
    "# Step 4: Apply PCA\n",
    "pca = PCA(n_components=2)  # Reduce to 2 components\n",
    "pca_data = pca.fit_transform(scaled_data)\n",
    "\n",
    "# Step 5: Create DataFrame with PCA results\n",
    "pca_df = pd.DataFrame(data=pca_data, columns=['PC1', 'PC2'])\n",
    "print(\"\\nPCA Result:\\n\", pca_df)\n",
    "\n",
    "# Step 6: Explained Variance\n",
    "print(\"\\nExplained Variance Ratio:\", pca.explained_variance_ratio_)\n",
    "\n",
    "# Step 7: Visualize the results\n",
    "plt.figure(figsize=(8,6))\n",
    "sns.scatterplot(x='PC1', y='PC2', data=pca_df)\n",
    "plt.title('PCA Result - 2D Projection')\n",
    "plt.xlabel('Principal Component 1')\n",
    "plt.ylabel('Principal Component 2')\n",
    "plt.grid(True)\n",
    "plt.show()\n"
   ]
  },
  {
   "cell_type": "code",
   "execution_count": null,
   "id": "49b1f250",
   "metadata": {},
   "outputs": [],
   "source": []
  }
 ],
 "metadata": {
  "kernelspec": {
   "display_name": "Python 3 (ipykernel)",
   "language": "python",
   "name": "python3"
  },
  "language_info": {
   "codemirror_mode": {
    "name": "ipython",
    "version": 3
   },
   "file_extension": ".py",
   "mimetype": "text/x-python",
   "name": "python",
   "nbconvert_exporter": "python",
   "pygments_lexer": "ipython3",
   "version": "3.10.9"
  }
 },
 "nbformat": 4,
 "nbformat_minor": 5
}
