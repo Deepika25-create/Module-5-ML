{
 "cells": [
  {
   "cell_type": "markdown",
   "metadata": {},
   "source": [
    "### Lab Activity 4.3: Analyzing Student Performance Using T-Tests and Z-Tests – A Statistical Approach\n"
   ]
  },
  {
   "cell_type": "markdown",
   "metadata": {},
   "source": [
    "\n",
    "#### Objective\n",
    "To analyze student performance and determine if there are statistically significant differences between different groups (e.g., gender, study time) using T-Tests and Z-Tests.\n"
   ]
  },
  {
   "cell_type": "markdown",
   "metadata": {},
   "source": [
    "\n",
    "#### Equipment/Tools Required\n",
    "- Computer with Python and Jupyter Notebook installed\n",
    "- Dataset: Student Performance (https://archive.ics.uci.edu/dataset/320/student+performance)\n",
    "- Python Libraries: pandas, numpy, scipy, matplotlib, seaborn, statsmodels\n"
   ]
  },
  {
   "cell_type": "markdown",
   "metadata": {},
   "source": [
    "\n",
    "#### Prerequisites\n",
    "- Basic understanding of Python programming\n",
    "- Knowledge of statistics, including hypothesis testing, T-Tests, and Z-Tests\n",
    "- Familiarity with pandas for data manipulation\n",
    "- Understanding of data visualization using matplotlib and seaborn\n"
   ]
  },
  {
   "cell_type": "markdown",
   "metadata": {},
   "source": [
    "\n",
    "#### Problem Statement\n",
    "The lab aims to analyze the impact of various factors, such as gender and study time, on student performance using statistical hypothesis testing. \n",
    "By applying T-Tests and Z-Tests, we will evaluate whether differences in student scores are statistically significant. \n",
    "The experiment will provide insights into whether these factors play a measurable role in academic performance and will help in making data-driven educational decisions.\n"
   ]
  },
  {
   "cell_type": "code",
   "execution_count": 3,
   "metadata": {},
   "outputs": [],
   "source": [
    "\n",
    "\n",
    "# Step 1: Import Necessary Libraries\n",
    "import pandas as pd\n",
    "import numpy as np\n",
    "import matplotlib.pyplot as plt\n",
    "import seaborn as sns\n",
    "from scipy.stats import ttest_ind, norm\n",
    "from statsmodels.stats.weightstats import ztest\n"
   ]
  },
  {
   "cell_type": "code",
   "execution_count": 4,
   "metadata": {},
   "outputs": [],
   "source": [
    "\n",
    "# Step 2: Load Dataset\n",
    "df = pd.read_csv(\"student-mat.csv\", sep=';')  # Update with correct file path\n"
   ]
  },
  {
   "cell_type": "code",
   "execution_count": 7,
   "metadata": {},
   "outputs": [
    {
     "name": "stdout",
     "output_type": "stream",
     "text": [
      "  school sex  age address famsize Pstatus  Medu  Fedu     Mjob      Fjob  ...  \\\n",
      "0     GP   F   18       U     GT3       A     4     4  at_home   teacher  ...   \n",
      "1     GP   F   17       U     GT3       T     1     1  at_home     other  ...   \n",
      "2     GP   F   15       U     LE3       T     1     1  at_home     other  ...   \n",
      "3     GP   F   15       U     GT3       T     4     2   health  services  ...   \n",
      "4     GP   F   16       U     GT3       T     3     3    other     other  ...   \n",
      "\n",
      "  famrel freetime  goout  Dalc  Walc health absences  G1  G2  G3  \n",
      "0      4        3      4     1     1      3        6   5   6   6  \n",
      "1      5        3      3     1     1      3        4   5   5   6  \n",
      "2      4        3      2     2     3      3       10   7   8  10  \n",
      "3      3        2      2     1     1      5        2  15  14  15  \n",
      "4      4        3      2     1     2      5        4   6  10  10  \n",
      "\n",
      "[5 rows x 33 columns]\n",
      "<class 'pandas.core.frame.DataFrame'>\n",
      "RangeIndex: 395 entries, 0 to 394\n",
      "Data columns (total 33 columns):\n",
      " #   Column      Non-Null Count  Dtype \n",
      "---  ------      --------------  ----- \n",
      " 0   school      395 non-null    object\n",
      " 1   sex         395 non-null    object\n",
      " 2   age         395 non-null    int64 \n",
      " 3   address     395 non-null    object\n",
      " 4   famsize     395 non-null    object\n",
      " 5   Pstatus     395 non-null    object\n",
      " 6   Medu        395 non-null    int64 \n",
      " 7   Fedu        395 non-null    int64 \n",
      " 8   Mjob        395 non-null    object\n",
      " 9   Fjob        395 non-null    object\n",
      " 10  reason      395 non-null    object\n",
      " 11  guardian    395 non-null    object\n",
      " 12  traveltime  395 non-null    int64 \n",
      " 13  studytime   395 non-null    int64 \n",
      " 14  failures    395 non-null    int64 \n",
      " 15  schoolsup   395 non-null    object\n",
      " 16  famsup      395 non-null    object\n",
      " 17  paid        395 non-null    object\n",
      " 18  activities  395 non-null    object\n",
      " 19  nursery     395 non-null    object\n",
      " 20  higher      395 non-null    object\n",
      " 21  internet    395 non-null    object\n",
      " 22  romantic    395 non-null    object\n",
      " 23  famrel      395 non-null    int64 \n",
      " 24  freetime    395 non-null    int64 \n",
      " 25  goout       395 non-null    int64 \n",
      " 26  Dalc        395 non-null    int64 \n",
      " 27  Walc        395 non-null    int64 \n",
      " 28  health      395 non-null    int64 \n",
      " 29  absences    395 non-null    int64 \n",
      " 30  G1          395 non-null    int64 \n",
      " 31  G2          395 non-null    int64 \n",
      " 32  G3          395 non-null    int64 \n",
      "dtypes: int64(16), object(17)\n",
      "memory usage: 102.0+ KB\n",
      "None\n"
     ]
    }
   ],
   "source": [
    "\n",
    "# Step 3: Data Inspection\n",
    "print(df.head())\n",
    "print(df.info())\n"
   ]
  },
  {
   "cell_type": "code",
   "execution_count": 8,
   "metadata": {},
   "outputs": [
    {
     "name": "stdout",
     "output_type": "stream",
     "text": [
      "              age        Medu        Fedu  traveltime   studytime    failures  \\\n",
      "count  395.000000  395.000000  395.000000  395.000000  395.000000  395.000000   \n",
      "mean    16.696203    2.749367    2.521519    1.448101    2.035443    0.334177   \n",
      "std      1.276043    1.094735    1.088201    0.697505    0.839240    0.743651   \n",
      "min     15.000000    0.000000    0.000000    1.000000    1.000000    0.000000   \n",
      "25%     16.000000    2.000000    2.000000    1.000000    1.000000    0.000000   \n",
      "50%     17.000000    3.000000    2.000000    1.000000    2.000000    0.000000   \n",
      "75%     18.000000    4.000000    3.000000    2.000000    2.000000    0.000000   \n",
      "max     22.000000    4.000000    4.000000    4.000000    4.000000    3.000000   \n",
      "\n",
      "           famrel    freetime       goout        Dalc        Walc      health  \\\n",
      "count  395.000000  395.000000  395.000000  395.000000  395.000000  395.000000   \n",
      "mean     3.944304    3.235443    3.108861    1.481013    2.291139    3.554430   \n",
      "std      0.896659    0.998862    1.113278    0.890741    1.287897    1.390303   \n",
      "min      1.000000    1.000000    1.000000    1.000000    1.000000    1.000000   \n",
      "25%      4.000000    3.000000    2.000000    1.000000    1.000000    3.000000   \n",
      "50%      4.000000    3.000000    3.000000    1.000000    2.000000    4.000000   \n",
      "75%      5.000000    4.000000    4.000000    2.000000    3.000000    5.000000   \n",
      "max      5.000000    5.000000    5.000000    5.000000    5.000000    5.000000   \n",
      "\n",
      "         absences          G1          G2          G3  \n",
      "count  395.000000  395.000000  395.000000  395.000000  \n",
      "mean     5.708861   10.908861   10.713924   10.415190  \n",
      "std      8.003096    3.319195    3.761505    4.581443  \n",
      "min      0.000000    3.000000    0.000000    0.000000  \n",
      "25%      0.000000    8.000000    9.000000    8.000000  \n",
      "50%      4.000000   11.000000   11.000000   11.000000  \n",
      "75%      8.000000   13.000000   13.000000   14.000000  \n",
      "max     75.000000   19.000000   19.000000   20.000000  \n"
     ]
    }
   ],
   "source": [
    "\n",
    "print(df.describe())\n"
   ]
  },
  {
   "cell_type": "code",
   "execution_count": 9,
   "metadata": {},
   "outputs": [
    {
     "name": "stdout",
     "output_type": "stream",
     "text": [
      "school        0\n",
      "sex           0\n",
      "age           0\n",
      "address       0\n",
      "famsize       0\n",
      "Pstatus       0\n",
      "Medu          0\n",
      "Fedu          0\n",
      "Mjob          0\n",
      "Fjob          0\n",
      "reason        0\n",
      "guardian      0\n",
      "traveltime    0\n",
      "studytime     0\n",
      "failures      0\n",
      "schoolsup     0\n",
      "famsup        0\n",
      "paid          0\n",
      "activities    0\n",
      "nursery       0\n",
      "higher        0\n",
      "internet      0\n",
      "romantic      0\n",
      "famrel        0\n",
      "freetime      0\n",
      "goout         0\n",
      "Dalc          0\n",
      "Walc          0\n",
      "health        0\n",
      "absences      0\n",
      "G1            0\n",
      "G2            0\n",
      "G3            0\n",
      "dtype: int64\n"
     ]
    }
   ],
   "source": [
    "\n",
    "print(df.isnull().sum())  # Check for missing values\n"
   ]
  },
  {
   "cell_type": "code",
   "execution_count": 10,
   "metadata": {},
   "outputs": [
    {
     "data": {
      "image/png": "[encoded data removed]",
      "text/plain": [
       "<Figure size 640x480 with 1 Axes>"
      ]
     },
     "metadata": {},
     "output_type": "display_data"
    }
   ],
   "source": [
    "\n",
    "# Step 4: Exploratory Data Analysis (EDA)\n",
    "sns.boxplot(x='sex', y='G3', data=df)\n",
    "plt.title(\"Final Grade (G3) Distribution by Gender\")\n",
    "plt.show()\n"
   ]
  },
  {
   "cell_type": "code",
   "execution_count": 11,
   "metadata": {},
   "outputs": [
    {
     "data": {
      "image/png": "[encoded data removed]",
      "text/plain": [
       "<Figure size 640x480 with 1 Axes>"
      ]
     },
     "metadata": {},
     "output_type": "display_data"
    }
   ],
   "source": [
    "\n",
    "sns.boxplot(x='studytime', y='G3', data=df)\n",
    "plt.title(\"Final Grade (G3) Distribution by Study Time\")\n",
    "plt.show()\n"
   ]
  },
  {
   "cell_type": "code",
   "execution_count": 12,
   "metadata": {},
   "outputs": [
    {
     "name": "stdout",
     "output_type": "stream",
     "text": [
      "Final Grade (G3) T-test: t-statistic = 2.065, p-value = 0.03958\n"
     ]
    }
   ],
   "source": [
    "\n",
    "# Step 5: Hypothesis Testing\n",
    "# H0: No significant difference in performance based on gender\n",
    "# H1: A significant difference exists\n",
    "\n",
    "def perform_ttest(score_column):\n",
    "    male_scores = df[df['sex'] == 'M'][score_column]\n",
    "    female_scores = df[df['sex'] == 'F'][score_column]\n",
    "    t_stat, p_value = ttest_ind(male_scores, female_scores, equal_var=False)  # Welch’s t-test\n",
    "    return t_stat, p_value\n",
    "\n",
    "# Conduct t-tests\n",
    "g3_t, g3_p = perform_ttest('G3')\n",
    "\n",
    "# Display results\n",
    "print(f\"Final Grade (G3) T-test: t-statistic = {g3_t:.3f}, p-value = {g3_p:.5f}\")\n"
   ]
  },
  {
   "cell_type": "code",
   "execution_count": 13,
   "metadata": {},
   "outputs": [
    {
     "name": "stdout",
     "output_type": "stream",
     "text": [
      "Study Time Z-test: z-statistic = -2.267, p-value = 0.02338\n"
     ]
    }
   ],
   "source": [
    "\n",
    "# Step 6: Z-Test (Comparing study time groups)\n",
    "low_study = df[df['studytime'] <= 2]['G3']\n",
    "high_study = df[df['studytime'] > 2]['G3']\n",
    "\n",
    "z_stat, z_p_value = ztest(low_study, high_study)\n",
    "print(f\"Study Time Z-test: z-statistic = {z_stat:.3f}, p-value = {z_p_value:.5f}\")\n"
   ]
  },
  {
   "cell_type": "code",
   "execution_count": 14,
   "metadata": {},
   "outputs": [
    {
     "name": "stdout",
     "output_type": "stream",
     "text": [
      "There is a significant difference (Gender-based T-Test, p < 0.05). Reject H0.\n",
      "There is a significant difference (Study Time-based Z-Test, p < 0.05). Reject H0.\n"
     ]
    }
   ],
   "source": [
    "\n",
    "# Step 7: Interpretation\n",
    "alpha = 0.05  # Significance level\n",
    "\n",
    "def interpret_results(p_value, test_name):\n",
    "    if p_value < alpha:\n",
    "        print(f\"There is a significant difference ({test_name}, p < 0.05). Reject H0.\")\n",
    "    else:\n",
    "        print(f\"No significant difference ({test_name}, p >= 0.05). Fail to reject H0.\")\n",
    "\n",
    "interpret_results(g3_p, \"Gender-based T-Test\")\n",
    "interpret_results(z_p_value, \"Study Time-based Z-Test\")\n"
   ]
  },
  {
   "cell_type": "markdown",
   "metadata": {},
   "source": [
    "\n",
    "\n",
    "#### Conclusion\n",
    "- The hypothesis tests determine if there are statistically significant differences in student performance based on gender and study time.\n",
    "- Interpretation of p-values helps decide whether differences exist in academic performance.\n",
    "- Further analysis can explore other factors such as parental education and support programs.\n",
    "\n"
   ]
  },
  {
   "cell_type": "code",
   "execution_count": 16,
   "metadata": {},
   "outputs": [
    {
     "name": "stdout",
     "output_type": "stream",
     "text": [
      "Final Grade (G3) T-test: t-statistic = 2.065, p-value = 0.03958\n",
      "Study Time Z-test: z-statistic = -2.267, p-value = 0.02338\n",
      "There is a significant difference (Gender-based T-Test, p < 0.05). Reject H0.\n",
      "There is a significant difference (Study Time-based Z-Test, p < 0.05). Reject H0.\n"
     ]
    }
   ],
   "source": [
    "# Step 5: Hypothesis Testing\n",
    "# H0: No significant difference in performance based on gender\n",
    "# H1: A significant difference exists\n",
    "\n",
    "def perform_ttest(score_column):\n",
    "    male_scores = df[df['sex'] == 'M'][score_column]\n",
    "    female_scores = df[df['sex'] == 'F'][score_column]\n",
    "    t_stat, p_value = ttest_ind(male_scores, female_scores, equal_var=False)  # Welch’s t-test\n",
    "    return t_stat, p_value\n",
    "\n",
    "# Conduct t-tests\n",
    "g3_t, g3_p = perform_ttest('G3')\n",
    "\n",
    "# Display results\n",
    "print(f\"Final Grade (G3) T-test: t-statistic = {g3_t:.3f}, p-value = {g3_p:.5f}\")\n",
    "\n",
    "# Step 6: Z-Test (Comparing study time groups)\n",
    "low_study = df[df['studytime'] <= 2]['G3']\n",
    "high_study = df[df['studytime'] > 2]['G3']\n",
    "\n",
    "z_stat, z_p_value = ztest(low_study, high_study)\n",
    "print(f\"Study Time Z-test: z-statistic = {z_stat:.3f}, p-value = {z_p_value:.5f}\")\n",
    "\n",
    "# Step 7: Interpretation\n",
    "alpha = 0.05  # Significance level\n",
    "\n",
    "def interpret_results(p_value, test_name):\n",
    "    if p_value < alpha:\n",
    "        print(f\"There is a significant difference ({test_name}, p < 0.05). Reject H0.\")\n",
    "    else:\n",
    "        print(f\"No significant difference ({test_name}, p >= 0.05). Fail to reject H0.\")\n",
    "\n",
    "interpret_results(g3_p, \"Gender-based T-Test\")\n",
    "interpret_results(z_p_value, \"Study Time-based Z-Test\")"
   ]
  },
  {
   "cell_type": "markdown",
   "metadata": {},
   "source": []
  }
 ],
 "metadata": {
  "kernelspec": {
   "display_name": "Python 3",
   "language": "python",
   "name": "python3"
  },
  "language_info": {
   "codemirror_mode": {
    "name": "ipython",
    "version": 3
   },
   "file_extension": ".py",
   "mimetype": "text/x-python",
   "name": "python",
   "nbconvert_exporter": "python",
   "pygments_lexer": "ipython3",
   "version": "3.11.9"
  }
 },
 "nbformat": 4,
 "nbformat_minor": 2
}
