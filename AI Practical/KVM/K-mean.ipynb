{
 "cells": [
  {
   "cell_type": "markdown",
   "id": "69cb5f72",
   "metadata": {},
   "source": [
    "How Does K-Means Work?\n",
    "We tell the computer:\n",
    "\n",
    "\"Hey! Try to make 3 groups of customers based on age, income, and spending behavior.\"\n",
    "\n",
    "K-Means then:\n",
    "\n",
    "Chooses 3 random center points (these are called centroids).\n",
    "\n",
    "Assigns each customer to the nearest centroid.\n",
    "\n",
    "Recalculates the center of each group.\n",
    "\n",
    "Repeats steps 2 and 3 until the groups stop changing."
   ]
  },
  {
   "cell_type": "markdown",
   "id": "cdee64ae",
   "metadata": {},
   "source": [
    "Real-Life Analogy\n",
    "Imagine you’re sorting fruits:\n",
    "\n",
    "Apples\n",
    "\n",
    "Bananas\n",
    "\n",
    "Oranges\n",
    "\n",
    "Even if no labels are given, you can group them by:\n",
    "\n",
    "Color\n",
    "\n",
    "Shape\n",
    "\n",
    "Size"
   ]
  },
  {
   "cell_type": "markdown",
   "id": "2c585ce5",
   "metadata": {},
   "source": [
    "When we apply K-Means and plot:\n",
    "\n",
    "\n",
    "plt.scatter(df['Age'], df['Spending Score'], c=df['Cluster'], cmap='viridis')\n",
    "It shows customers in 3 different colors (3 groups):\n",
    "\n",
    "💛 Group 1: Young people who spend a lot\n",
    "\n",
    "💚 Group 2: Middle-aged people who spend average\n",
    "\n",
    "💜 Group 3: Older people who spend less\n",
    "\n",
    "We even see red X marks for the center of each group."
   ]
  },
  {
   "cell_type": "markdown",
   "id": "da29c99e",
   "metadata": {},
   "source": [
    "In Simple Words\n",
    "\n",
    "Step\tWhat Happens\n",
    "1\tRandomly picks 3 centers\n",
    "2\tEach customer joins the nearest group\n",
    "3\tGroup centers move based on the new members\n",
    "4\tRepeat until no more changes"
   ]
  },
  {
   "cell_type": "markdown",
   "id": "503cb873",
   "metadata": {},
   "source": [
    "What Do We Get in the End?\n",
    "Each customer is labeled with a group number (Cluster 0, Cluster 1, Cluster 2).\n",
    "\n",
    "We know which customers are similar in spending and age.\n",
    "\n",
    "Helps businesses to:\n",
    "\n",
    "Target offers\n",
    "\n",
    "Personalize marketing\n",
    "\n",
    "Understand customer behavior\n",
    "\n"
   ]
  },
  {
   "cell_type": "code",
   "execution_count": 8,
   "id": "0de6df85",
   "metadata": {},
   "outputs": [],
   "source": [
    "import pandas as pd"
   ]
  },
  {
   "cell_type": "code",
   "execution_count": null,
   "id": "a5331fc2",
   "metadata": {},
   "outputs": [],
   "source": []
  },
  {
   "cell_type": "code",
   "execution_count": 12,
   "id": "57da32d5",
   "metadata": {},
   "outputs": [],
   "source": [
    "df=pd.read_csv('Custermer segmentation.csv')"
   ]
  },
  {
   "cell_type": "code",
   "execution_count": 13,
   "id": "ccf3b396",
   "metadata": {},
   "outputs": [
    {
     "data": {
      "text/html": [
       "<div>\n",
       "<style scoped>\n",
       "    .dataframe tbody tr th:only-of-type {\n",
       "        vertical-align: middle;\n",
       "    }\n",
       "\n",
       "    .dataframe tbody tr th {\n",
       "        vertical-align: top;\n",
       "    }\n",
       "\n",
       "    .dataframe thead th {\n",
       "        text-align: right;\n",
       "    }\n",
       "</style>\n",
       "<table border=\"1\" class=\"dataframe\">\n",
       "  <thead>\n",
       "    <tr style=\"text-align: right;\">\n",
       "      <th></th>\n",
       "      <th>Customer_ID</th>\n",
       "      <th>Age</th>\n",
       "      <th>Annual Income (k$)</th>\n",
       "      <th>Spending Score (1-100)</th>\n",
       "    </tr>\n",
       "  </thead>\n",
       "  <tbody>\n",
       "    <tr>\n",
       "      <th>0</th>\n",
       "      <td>1</td>\n",
       "      <td>19</td>\n",
       "      <td>15</td>\n",
       "      <td>39</td>\n",
       "    </tr>\n",
       "    <tr>\n",
       "      <th>1</th>\n",
       "      <td>2</td>\n",
       "      <td>21</td>\n",
       "      <td>15</td>\n",
       "      <td>81</td>\n",
       "    </tr>\n",
       "    <tr>\n",
       "      <th>2</th>\n",
       "      <td>3</td>\n",
       "      <td>20</td>\n",
       "      <td>16</td>\n",
       "      <td>6</td>\n",
       "    </tr>\n",
       "    <tr>\n",
       "      <th>3</th>\n",
       "      <td>4</td>\n",
       "      <td>23</td>\n",
       "      <td>16</td>\n",
       "      <td>77</td>\n",
       "    </tr>\n",
       "    <tr>\n",
       "      <th>4</th>\n",
       "      <td>5</td>\n",
       "      <td>31</td>\n",
       "      <td>17</td>\n",
       "      <td>40</td>\n",
       "    </tr>\n",
       "    <tr>\n",
       "      <th>5</th>\n",
       "      <td>6</td>\n",
       "      <td>22</td>\n",
       "      <td>17</td>\n",
       "      <td>76</td>\n",
       "    </tr>\n",
       "    <tr>\n",
       "      <th>6</th>\n",
       "      <td>7</td>\n",
       "      <td>35</td>\n",
       "      <td>18</td>\n",
       "      <td>6</td>\n",
       "    </tr>\n",
       "    <tr>\n",
       "      <th>7</th>\n",
       "      <td>8</td>\n",
       "      <td>23</td>\n",
       "      <td>18</td>\n",
       "      <td>94</td>\n",
       "    </tr>\n",
       "    <tr>\n",
       "      <th>8</th>\n",
       "      <td>9</td>\n",
       "      <td>64</td>\n",
       "      <td>19</td>\n",
       "      <td>3</td>\n",
       "    </tr>\n",
       "    <tr>\n",
       "      <th>9</th>\n",
       "      <td>10</td>\n",
       "      <td>30</td>\n",
       "      <td>19</td>\n",
       "      <td>72</td>\n",
       "    </tr>\n",
       "    <tr>\n",
       "      <th>10</th>\n",
       "      <td>11</td>\n",
       "      <td>67</td>\n",
       "      <td>19</td>\n",
       "      <td>14</td>\n",
       "    </tr>\n",
       "    <tr>\n",
       "      <th>11</th>\n",
       "      <td>12</td>\n",
       "      <td>35</td>\n",
       "      <td>20</td>\n",
       "      <td>99</td>\n",
       "    </tr>\n",
       "    <tr>\n",
       "      <th>12</th>\n",
       "      <td>13</td>\n",
       "      <td>58</td>\n",
       "      <td>20</td>\n",
       "      <td>15</td>\n",
       "    </tr>\n",
       "    <tr>\n",
       "      <th>13</th>\n",
       "      <td>14</td>\n",
       "      <td>24</td>\n",
       "      <td>21</td>\n",
       "      <td>77</td>\n",
       "    </tr>\n",
       "    <tr>\n",
       "      <th>14</th>\n",
       "      <td>15</td>\n",
       "      <td>37</td>\n",
       "      <td>21</td>\n",
       "      <td>40</td>\n",
       "    </tr>\n",
       "  </tbody>\n",
       "</table>\n",
       "</div>"
      ],
      "text/plain": [
       "    Customer_ID  Age  Annual Income (k$)  Spending Score (1-100)\n",
       "0             1   19                  15                      39\n",
       "1             2   21                  15                      81\n",
       "2             3   20                  16                       6\n",
       "3             4   23                  16                      77\n",
       "4             5   31                  17                      40\n",
       "5             6   22                  17                      76\n",
       "6             7   35                  18                       6\n",
       "7             8   23                  18                      94\n",
       "8             9   64                  19                       3\n",
       "9            10   30                  19                      72\n",
       "10           11   67                  19                      14\n",
       "11           12   35                  20                      99\n",
       "12           13   58                  20                      15\n",
       "13           14   24                  21                      77\n",
       "14           15   37                  21                      40"
      ]
     },
     "execution_count": 13,
     "metadata": {},
     "output_type": "execute_result"
    }
   ],
   "source": [
    "df"
   ]
  },
  {
   "cell_type": "code",
   "execution_count": 21,
   "id": "e35acd65",
   "metadata": {},
   "outputs": [],
   "source": [
    "\n",
    "# Use only the 'Age', 'Annual Income (k$)', and 'Spending Score' for clustering\n",
    "X = df[['Age' , 'Annual Income (k$)','Spending Score (1-100)']]"
   ]
  },
  {
   "cell_type": "code",
   "execution_count": 25,
   "id": "0aaf7e81",
   "metadata": {},
   "outputs": [
    {
     "name": "stderr",
     "output_type": "stream",
     "text": [
      "C:\\Users\\malam\\anaconda3\\lib\\site-packages\\sklearn\\cluster\\_kmeans.py:870: FutureWarning: The default value of `n_init` will change from 10 to 'auto' in 1.4. Set the value of `n_init` explicitly to suppress the warning\n",
      "  warnings.warn(\n",
      "C:\\Users\\malam\\anaconda3\\lib\\site-packages\\sklearn\\cluster\\_kmeans.py:1382: UserWarning: KMeans is known to have a memory leak on Windows with MKL, when there are less chunks than available threads. You can avoid it by setting the environment variable OMP_NUM_THREADS=1.\n",
      "  warnings.warn(\n"
     ]
    }
   ],
   "source": [
    "#Apply K-mean\n",
    "from sklearn.cluster import KMeans\n",
    "kmeans=KMeans(n_clusters=3)\n",
    "df['cluster']=kmeans.fit_predict(X)\n",
    "\n"
   ]
  },
  {
   "cell_type": "code",
   "execution_count": 30,
   "id": "1418f52e",
   "metadata": {},
   "outputs": [
    {
     "data": {
      "image/png": "[encoded data removed]",
      "text/plain": [
       "<Figure size 640x480 with 1 Axes>"
      ]
     },
     "metadata": {},
     "output_type": "display_data"
    }
   ],
   "source": [
    "#Visualize the clustering results\n",
    "import matplotlib.pyplot as plt\n",
    "plt.scatter(df['Age'], df['Spending Score (1-100)'], c=df['cluster'], cmap='viridis')\n",
    "plt.title(\"Custtomer Segements (clustering Age and Spending Score)\")\n",
    "plt.xlabel(\"Age\")\n",
    "plt.ylabel(\"Spending Score\")\n",
    "plt.show()"
   ]
  },
  {
   "cell_type": "code",
   "execution_count": 32,
   "id": "41fcfad4",
   "metadata": {},
   "outputs": [
    {
     "name": "stdout",
     "output_type": "stream",
     "text": [
      "    Customer_ID  Age  Annual Income (k$)  Spending Score (1-100)  cluster\n",
      "0             1   19                  15                      39        1\n",
      "1             2   21                  15                      81        0\n",
      "2             3   20                  16                       6        1\n",
      "3             4   23                  16                      77        0\n",
      "4             5   31                  17                      40        1\n",
      "5             6   22                  17                      76        0\n",
      "6             7   35                  18                       6        1\n",
      "7             8   23                  18                      94        0\n",
      "8             9   64                  19                       3        2\n",
      "9            10   30                  19                      72        0\n",
      "10           11   67                  19                      14        2\n",
      "11           12   35                  20                      99        0\n",
      "12           13   58                  20                      15        2\n",
      "13           14   24                  21                      77        0\n",
      "14           15   37                  21                      40        1\n"
     ]
    }
   ],
   "source": [
    "# Show the resulting DataFrame with cluster assignments\n",
    "print(df[['Customer_ID', 'Age', 'Annual Income (k$)', 'Spending Score (1-100)', 'cluster']])"
   ]
  },
  {
   "cell_type": "markdown",
   "id": "e797964d",
   "metadata": {},
   "source": [
    "Explanation:\n",
    "KMeans(): Applies the K-Means clustering algorithm, where we specify the number of clusters (e.g., n_clusters=3).\n",
    "\n",
    "The resulting clusters are added to the DataFrame as a new column called 'Cluster'.\n",
    "\n",
    "Visualization: The scatter plot shows the customer data points, colored according to their assigned clusters.\n",
    "\n",
    "You can use this dataset in your analysis, adjust the number of clusters (n_clusters), or add more customer data to see how the algorithm groups different types of customers."
   ]
  },
  {
   "cell_type": "code",
   "execution_count": null,
   "id": "a4b29268",
   "metadata": {},
   "outputs": [],
   "source": []
  }
 ],
 "metadata": {
  "kernelspec": {
   "display_name": "Python 3 (ipykernel)",
   "language": "python",
   "name": "python3"
  },
  "language_info": {
   "codemirror_mode": {
    "name": "ipython",
    "version": 3
   },
   "file_extension": ".py",
   "mimetype": "text/x-python",
   "name": "python",
   "nbconvert_exporter": "python",
   "pygments_lexer": "ipython3",
   "version": "3.10.9"
  }
 },
 "nbformat": 4,
 "nbformat_minor": 5
}
