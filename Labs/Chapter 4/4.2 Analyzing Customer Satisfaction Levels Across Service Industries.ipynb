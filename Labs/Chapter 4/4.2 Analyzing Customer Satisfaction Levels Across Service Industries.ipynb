{
 "cells": [
  {
   "cell_type": "markdown",
   "id": "a50d5082",
   "metadata": {},
   "source": [
    "### Lab 4.2: Analyzing Customer Satisfaction Levels Across Service Industries\n"
   ]
  },
  {
   "cell_type": "markdown",
   "id": "04cd5a85",
   "metadata": {},
   "source": [
    "\n",
    "#### **Objective:**\n",
    "Develop and test null and alternative hypotheses to examine customer satisfaction differences across sectors.\n"
   ]
  },
  {
   "cell_type": "markdown",
   "id": "f6536c77",
   "metadata": {},
   "source": [
    "\n",
    "#### **Equipment Required:**\n",
    "- Jupyter Notebook\n",
    "- Python (Pandas, NumPy, Seaborn, Matplotlib, SciPy)\n"
   ]
  },
  {
   "cell_type": "markdown",
   "id": "60e27291",
   "metadata": {},
   "source": [
    "\n",
    "#### **Prerequisites:**\n",
    "- Basic knowledge of Python\n",
    "- Familiarity with data analysis and visualization\n",
    "- Understanding of hypothesis testing\n"
   ]
  },
  {
   "cell_type": "markdown",
   "id": "197f99d1",
   "metadata": {},
   "source": [
    "\n",
    "#### **Problem Statement:**\n",
    "Analyze customer satisfaction levels across different service factors (delivery experience, food quality, and delivery speed) and test whether order accuracy significantly affects customer satisfaction.\n"
   ]
  },
  {
   "cell_type": "code",
   "execution_count": 16,
   "id": "c19f5d38",
   "metadata": {},
   "outputs": [],
   "source": [
    "\n",
    "# Import necessary libraries\n",
    "import pandas as pd\n",
    "import numpy as np\n",
    "import matplotlib.pyplot as plt\n",
    "import seaborn as sns\n",
    "from scipy.stats import ttest_ind\n"
   ]
  },
  {
   "cell_type": "code",
   "execution_count": 17,
   "id": "11e2d541",
   "metadata": {},
   "outputs": [],
   "source": [
    "\n",
    "#Load Dataset\n",
    "df = pd.read_csv(\"customer-satisfaction.csv\")\n"
   ]
  },
  {
   "cell_type": "code",
   "execution_count": 18,
   "id": "07e52e4c",
   "metadata": {},
   "outputs": [
    {
     "data": {
      "text/html": [
       "<div>\n",
       "<style scoped>\n",
       "    .dataframe tbody tr th:only-of-type {\n",
       "        vertical-align: middle;\n",
       "    }\n",
       "\n",
       "    .dataframe tbody tr th {\n",
       "        vertical-align: top;\n",
       "    }\n",
       "\n",
       "    .dataframe thead th {\n",
       "        text-align: right;\n",
       "    }\n",
       "</style>\n",
       "<table border=\"1\" class=\"dataframe\">\n",
       "  <thead>\n",
       "    <tr style=\"text-align: right;\">\n",
       "      <th></th>\n",
       "      <th>Customer</th>\n",
       "      <th>How satisfied were you with your overall delivery experience at Ali?                    1-5 where 1 = extremely dissatisfied and 5 = extremely satisfied</th>\n",
       "      <th>How satisfied were you with the quality of the food at Alis?                             1-5 where 1 = extremely dissatisfied and 5 = extremely satisfied</th>\n",
       "      <th>How satisfied were you with the speed of delivery at Alis?                                1-5 where 1 = extremely dissatisfied and 5 = extremely satisfied</th>\n",
       "      <th>Was your order accurate? Please respond yes or no.</th>\n",
       "    </tr>\n",
       "  </thead>\n",
       "  <tbody>\n",
       "    <tr>\n",
       "      <th>0</th>\n",
       "      <td>1</td>\n",
       "      <td>5.0</td>\n",
       "      <td>3.0</td>\n",
       "      <td>4.0</td>\n",
       "      <td>Yes</td>\n",
       "    </tr>\n",
       "    <tr>\n",
       "      <th>1</th>\n",
       "      <td>2</td>\n",
       "      <td>3.0</td>\n",
       "      <td>4.0</td>\n",
       "      <td>3.0</td>\n",
       "      <td>Yes</td>\n",
       "    </tr>\n",
       "    <tr>\n",
       "      <th>2</th>\n",
       "      <td>3</td>\n",
       "      <td>4.0</td>\n",
       "      <td>5.0</td>\n",
       "      <td>2.0</td>\n",
       "      <td>Yes</td>\n",
       "    </tr>\n",
       "    <tr>\n",
       "      <th>3</th>\n",
       "      <td>4</td>\n",
       "      <td>5.0</td>\n",
       "      <td>3.0</td>\n",
       "      <td>4.0</td>\n",
       "      <td>Yes</td>\n",
       "    </tr>\n",
       "    <tr>\n",
       "      <th>4</th>\n",
       "      <td>5</td>\n",
       "      <td>2.0</td>\n",
       "      <td>5.0</td>\n",
       "      <td>1.0</td>\n",
       "      <td>Yes</td>\n",
       "    </tr>\n",
       "  </tbody>\n",
       "</table>\n",
       "</div>"
      ],
      "text/plain": [
       "   Customer  \\\n",
       "0         1   \n",
       "1         2   \n",
       "2         3   \n",
       "3         4   \n",
       "4         5   \n",
       "\n",
       "   How satisfied were you with your overall delivery experience at Ali?                    1-5 where 1 = extremely dissatisfied and 5 = extremely satisfied  \\\n",
       "0                                                5.0                                                                                                          \n",
       "1                                                3.0                                                                                                          \n",
       "2                                                4.0                                                                                                          \n",
       "3                                                5.0                                                                                                          \n",
       "4                                                2.0                                                                                                          \n",
       "\n",
       "   How satisfied were you with the quality of the food at Alis?                             1-5 where 1 = extremely dissatisfied and 5 = extremely satisfied  \\\n",
       "0                                                3.0                                                                                                           \n",
       "1                                                4.0                                                                                                           \n",
       "2                                                5.0                                                                                                           \n",
       "3                                                3.0                                                                                                           \n",
       "4                                                5.0                                                                                                           \n",
       "\n",
       "   How satisfied were you with the speed of delivery at Alis?                                1-5 where 1 = extremely dissatisfied and 5 = extremely satisfied  \\\n",
       "0                                                4.0                                                                                                            \n",
       "1                                                3.0                                                                                                            \n",
       "2                                                2.0                                                                                                            \n",
       "3                                                4.0                                                                                                            \n",
       "4                                                1.0                                                                                                            \n",
       "\n",
       "  Was your order accurate? Please respond yes or no.  \n",
       "0                                                Yes  \n",
       "1                                                Yes  \n",
       "2                                                Yes  \n",
       "3                                                Yes  \n",
       "4                                                Yes  "
      ]
     },
     "execution_count": 18,
     "metadata": {},
     "output_type": "execute_result"
    }
   ],
   "source": [
    "\n",
    "# Display the first few rows of the data\n",
    "df.head()\n"
   ]
  },
  {
   "cell_type": "code",
   "execution_count": 19,
   "id": "bf1d04e4",
   "metadata": {},
   "outputs": [],
   "source": [
    "\n",
    "# Rename columns for easier access\n",
    "df.columns = [\n",
    "    'Customer',\n",
    "    'Delivery_Satisfaction',\n",
    "    'Food_Quality',\n",
    "    'Delivery_Speed',\n",
    "    'Order_Accuracy'\n",
    "]\n",
    "\n",
    "# Clean missing values\n",
    "df.dropna(inplace=True)\n"
   ]
  },
  {
   "cell_type": "code",
   "execution_count": 20,
   "id": "3b834381",
   "metadata": {},
   "outputs": [],
   "source": [
    "\n",
    "# Convert categorical data to numerical values\n",
    "df['Order_Accuracy'] = df['Order_Accuracy'].map({'Yes': 1, 'No': 0})\n"
   ]
  },
  {
   "cell_type": "code",
   "execution_count": 21,
   "id": "7a044f1c",
   "metadata": {},
   "outputs": [
    {
     "name": "stdout",
     "output_type": "stream",
     "text": [
      "          Customer  Delivery_Satisfaction  Food_Quality  Delivery_Speed  \\\n",
      "count   9297.00000            9297.000000   9297.000000     9297.000000   \n",
      "mean    5332.15747               3.321609      3.335054        3.322792   \n",
      "std     3112.18162               1.423554      1.413883        1.407286   \n",
      "min        1.00000               1.000000      1.000000        1.000000   \n",
      "25%     2719.00000               2.000000      2.000000        2.000000   \n",
      "50%     5256.00000               3.000000      3.000000        3.000000   \n",
      "75%     8145.00000               5.000000      5.000000        5.000000   \n",
      "max    10616.00000               5.000000      5.000000        5.000000   \n",
      "\n",
      "       Order_Accuracy  \n",
      "count     9297.000000  \n",
      "mean         0.714962  \n",
      "std          0.451457  \n",
      "min          0.000000  \n",
      "25%          0.000000  \n",
      "50%          1.000000  \n",
      "75%          1.000000  \n",
      "max          1.000000  \n"
     ]
    }
   ],
   "source": [
    "\n",
    "# Summary statistics\n",
    "print(df.describe())\n"
   ]
  },
  {
   "cell_type": "code",
   "execution_count": 22,
   "id": "fc9aa21c",
   "metadata": {},
   "outputs": [
    {
     "name": "stdout",
     "output_type": "stream",
     "text": [
      "T-statistic: 1.311528555003685, P-value: 0.18971164699833581\n"
     ]
    }
   ],
   "source": [
    "\n",
    "# Hypothesis Testing:\n",
    "# H0: Order accuracy does not impact delivery satisfaction\n",
    "# H1: Order accuracy impacts delivery satisfaction\n",
    "\n",
    "satisfied = df[df['Order_Accuracy'] == 1]['Delivery_Satisfaction']\n",
    "not_satisfied = df[df['Order_Accuracy'] == 0]['Delivery_Satisfaction']\n",
    "\n",
    "# Perform t-test\n",
    "t_stat, p_value = ttest_ind(satisfied, not_satisfied)\n",
    "print(f'T-statistic: {t_stat}, P-value: {p_value}')\n"
   ]
  },
  {
   "cell_type": "code",
   "execution_count": 23,
   "id": "cc8324b0",
   "metadata": {},
   "outputs": [
    {
     "data": {
      "image/png": "[encoded data removed]",
      "text/plain": [
       "<Figure size 640x480 with 1 Axes>"
      ]
     },
     "metadata": {},
     "output_type": "display_data"
    }
   ],
   "source": [
    "\n",
    "# Visualization\n",
    "sns.boxplot(x='Order_Accuracy', y='Delivery_Satisfaction', data=df)\n",
    "plt.title('Impact of Order Accuracy on Satisfaction')\n",
    "plt.show()\n"
   ]
  },
  {
   "cell_type": "markdown",
   "id": "01cd2950",
   "metadata": {},
   "source": [
    "\n",
    "\n",
    "#### **Conclusion:**\n",
    "- If the p-value is less than 0.05, we reject the null hypothesis and conclude that order accuracy significantly impacts customer satisfaction.\n",
    "- If the p-value is greater than 0.05, we fail to reject the null hypothesis, indicating no significant relationship between order accuracy and customer satisfaction.\n"
   ]
  },
  {
   "cell_type": "markdown",
   "id": "7badb066",
   "metadata": {},
   "source": []
  }
 ],
 "metadata": {
  "kernelspec": {
   "display_name": "Python 3",
   "language": "python",
   "name": "python3"
  },
  "language_info": {
   "codemirror_mode": {
    "name": "ipython",
    "version": 3
   },
   "file_extension": ".py",
   "mimetype": "text/x-python",
   "name": "python",
   "nbconvert_exporter": "python",
   "pygments_lexer": "ipython3",
   "version": "3.11.9"
  }
 },
 "nbformat": 4,
 "nbformat_minor": 5
}
